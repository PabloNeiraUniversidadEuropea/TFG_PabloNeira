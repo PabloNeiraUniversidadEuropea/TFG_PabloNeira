{
 "cells": [
  {
   "cell_type": "code",
   "execution_count": 1,
   "metadata": {},
   "outputs": [],
   "source": [
    "#from geopy.extra.rate_limiter import RateLimiter\n",
    "#from geopy.geocoders import Nominatim\n",
    "import utm\n",
    "import pandas as pd\n",
    "import math"
   ]
  },
  {
   "cell_type": "code",
   "execution_count": 2,
   "metadata": {},
   "outputs": [
    {
     "data": {
      "text/plain": [
       "(40.429139145457015, -3.6812045858234943)"
      ]
     },
     "execution_count": 2,
     "metadata": {},
     "output_type": "execute_result"
    }
   ],
   "source": [
    "utm.to_latlon(442218, 4475612, 30, 'N')"
   ]
  },
  {
   "cell_type": "code",
   "execution_count": 89,
   "metadata": {},
   "outputs": [
    {
     "data": {
      "text/plain": [
       "4480967.858"
      ]
     },
     "execution_count": 89,
     "metadata": {},
     "output_type": "execute_result"
    }
   ],
   "source": [
    "accidentes['coordenada_y_utm'][1]"
   ]
  },
  {
   "cell_type": "code",
   "execution_count": 67,
   "metadata": {},
   "outputs": [],
   "source": [
    "accidentes=pd.read_csv('accidentes_limpio.csv', sep=',')"
   ]
  },
  {
   "cell_type": "code",
   "execution_count": 68,
   "metadata": {},
   "outputs": [],
   "source": [
    "accidentes['coordenada_x_utm'] = accidentes['coordenada_x_utm'].str.replace(\".\", \"\").astype(float)"
   ]
  },
  {
   "cell_type": "code",
   "execution_count": 69,
   "metadata": {},
   "outputs": [],
   "source": [
    "accidentes['coordenada_y_utm'] = accidentes['coordenada_y_utm'].str.replace(\".\", \"\").astype(float)"
   ]
  },
  {
   "cell_type": "code",
   "execution_count": 73,
   "metadata": {},
   "outputs": [],
   "source": [
    "accidentes['coordenada_y_utm'] = (accidentes['coordenada_y_utm'])/1000"
   ]
  },
  {
   "cell_type": "code",
   "execution_count": 160,
   "metadata": {},
   "outputs": [
    {
     "name": "stderr",
     "output_type": "stream",
     "text": [
      "/opt/anaconda3/lib/python3.7/site-packages/ipykernel_launcher.py:1: SettingWithCopyWarning: \n",
      "A value is trying to be set on a copy of a slice from a DataFrame\n",
      "\n",
      "See the caveats in the documentation: http://pandas.pydata.org/pandas-docs/stable/user_guide/indexing.html#returning-a-view-versus-a-copy\n",
      "  \"\"\"Entry point for launching an IPython kernel.\n"
     ]
    }
   ],
   "source": [
    "accidentes['coordenada_y_utm'][12698:] = (accidentes['coordenada_y_utm'][12698:])/10"
   ]
  },
  {
   "cell_type": "code",
   "execution_count": 97,
   "metadata": {},
   "outputs": [
    {
     "ename": "KeyError",
     "evalue": "'index'",
     "output_type": "error",
     "traceback": [
      "\u001b[0;31m---------------------------------------------------------------------------\u001b[0m",
      "\u001b[0;31mKeyError\u001b[0m                                  Traceback (most recent call last)",
      "\u001b[0;32m<ipython-input-97-7882da19c308>\u001b[0m in \u001b[0;36m<module>\u001b[0;34m\u001b[0m\n\u001b[1;32m      1\u001b[0m \u001b[0mi\u001b[0m \u001b[0;34m=\u001b[0m \u001b[0;36m0\u001b[0m\u001b[0;34m\u001b[0m\u001b[0;34m\u001b[0m\u001b[0m\n\u001b[1;32m      2\u001b[0m \u001b[0;32mfor\u001b[0m \u001b[0mi\u001b[0m \u001b[0;32min\u001b[0m \u001b[0maccidentes\u001b[0m\u001b[0;34m:\u001b[0m\u001b[0;34m\u001b[0m\u001b[0;34m\u001b[0m\u001b[0m\n\u001b[0;32m----> 3\u001b[0;31m     \u001b[0mutm\u001b[0m\u001b[0;34m.\u001b[0m\u001b[0mto_latlon\u001b[0m\u001b[0;34m(\u001b[0m\u001b[0maccidentes\u001b[0m\u001b[0;34m[\u001b[0m\u001b[0;34m'coordenada_x_utm'\u001b[0m\u001b[0;34m]\u001b[0m\u001b[0;34m[\u001b[0m\u001b[0mi\u001b[0m\u001b[0;34m]\u001b[0m\u001b[0;34m,\u001b[0m \u001b[0maccidentes\u001b[0m\u001b[0;34m[\u001b[0m\u001b[0;34m'coordenada_y_utm'\u001b[0m\u001b[0;34m]\u001b[0m\u001b[0;34m[\u001b[0m\u001b[0mi\u001b[0m\u001b[0;34m]\u001b[0m\u001b[0;34m,\u001b[0m\u001b[0;36m30\u001b[0m\u001b[0;34m,\u001b[0m \u001b[0mnorthern\u001b[0m \u001b[0;34m=\u001b[0m \u001b[0;32mTrue\u001b[0m\u001b[0;34m)\u001b[0m\u001b[0;34m\u001b[0m\u001b[0;34m\u001b[0m\u001b[0m\n\u001b[0m",
      "\u001b[0;32m/opt/anaconda3/lib/python3.7/site-packages/pandas/core/series.py\u001b[0m in \u001b[0;36m__getitem__\u001b[0;34m(self, key)\u001b[0m\n\u001b[1;32m   1066\u001b[0m         \u001b[0mkey\u001b[0m \u001b[0;34m=\u001b[0m \u001b[0mcom\u001b[0m\u001b[0;34m.\u001b[0m\u001b[0mapply_if_callable\u001b[0m\u001b[0;34m(\u001b[0m\u001b[0mkey\u001b[0m\u001b[0;34m,\u001b[0m \u001b[0mself\u001b[0m\u001b[0;34m)\u001b[0m\u001b[0;34m\u001b[0m\u001b[0;34m\u001b[0m\u001b[0m\n\u001b[1;32m   1067\u001b[0m         \u001b[0;32mtry\u001b[0m\u001b[0;34m:\u001b[0m\u001b[0;34m\u001b[0m\u001b[0;34m\u001b[0m\u001b[0m\n\u001b[0;32m-> 1068\u001b[0;31m             \u001b[0mresult\u001b[0m \u001b[0;34m=\u001b[0m \u001b[0mself\u001b[0m\u001b[0;34m.\u001b[0m\u001b[0mindex\u001b[0m\u001b[0;34m.\u001b[0m\u001b[0mget_value\u001b[0m\u001b[0;34m(\u001b[0m\u001b[0mself\u001b[0m\u001b[0;34m,\u001b[0m \u001b[0mkey\u001b[0m\u001b[0;34m)\u001b[0m\u001b[0;34m\u001b[0m\u001b[0;34m\u001b[0m\u001b[0m\n\u001b[0m\u001b[1;32m   1069\u001b[0m \u001b[0;34m\u001b[0m\u001b[0m\n\u001b[1;32m   1070\u001b[0m             \u001b[0;32mif\u001b[0m \u001b[0;32mnot\u001b[0m \u001b[0mis_scalar\u001b[0m\u001b[0;34m(\u001b[0m\u001b[0mresult\u001b[0m\u001b[0;34m)\u001b[0m\u001b[0;34m:\u001b[0m\u001b[0;34m\u001b[0m\u001b[0;34m\u001b[0m\u001b[0m\n",
      "\u001b[0;32m/opt/anaconda3/lib/python3.7/site-packages/pandas/core/indexes/base.py\u001b[0m in \u001b[0;36mget_value\u001b[0;34m(self, series, key)\u001b[0m\n\u001b[1;32m   4728\u001b[0m         \u001b[0mk\u001b[0m \u001b[0;34m=\u001b[0m \u001b[0mself\u001b[0m\u001b[0;34m.\u001b[0m\u001b[0m_convert_scalar_indexer\u001b[0m\u001b[0;34m(\u001b[0m\u001b[0mk\u001b[0m\u001b[0;34m,\u001b[0m \u001b[0mkind\u001b[0m\u001b[0;34m=\u001b[0m\u001b[0;34m\"getitem\"\u001b[0m\u001b[0;34m)\u001b[0m\u001b[0;34m\u001b[0m\u001b[0;34m\u001b[0m\u001b[0m\n\u001b[1;32m   4729\u001b[0m         \u001b[0;32mtry\u001b[0m\u001b[0;34m:\u001b[0m\u001b[0;34m\u001b[0m\u001b[0;34m\u001b[0m\u001b[0m\n\u001b[0;32m-> 4730\u001b[0;31m             \u001b[0;32mreturn\u001b[0m \u001b[0mself\u001b[0m\u001b[0;34m.\u001b[0m\u001b[0m_engine\u001b[0m\u001b[0;34m.\u001b[0m\u001b[0mget_value\u001b[0m\u001b[0;34m(\u001b[0m\u001b[0ms\u001b[0m\u001b[0;34m,\u001b[0m \u001b[0mk\u001b[0m\u001b[0;34m,\u001b[0m \u001b[0mtz\u001b[0m\u001b[0;34m=\u001b[0m\u001b[0mgetattr\u001b[0m\u001b[0;34m(\u001b[0m\u001b[0mseries\u001b[0m\u001b[0;34m.\u001b[0m\u001b[0mdtype\u001b[0m\u001b[0;34m,\u001b[0m \u001b[0;34m\"tz\"\u001b[0m\u001b[0;34m,\u001b[0m \u001b[0;32mNone\u001b[0m\u001b[0;34m)\u001b[0m\u001b[0;34m)\u001b[0m\u001b[0;34m\u001b[0m\u001b[0;34m\u001b[0m\u001b[0m\n\u001b[0m\u001b[1;32m   4731\u001b[0m         \u001b[0;32mexcept\u001b[0m \u001b[0mKeyError\u001b[0m \u001b[0;32mas\u001b[0m \u001b[0me1\u001b[0m\u001b[0;34m:\u001b[0m\u001b[0;34m\u001b[0m\u001b[0;34m\u001b[0m\u001b[0m\n\u001b[1;32m   4732\u001b[0m             \u001b[0;32mif\u001b[0m \u001b[0mlen\u001b[0m\u001b[0;34m(\u001b[0m\u001b[0mself\u001b[0m\u001b[0;34m)\u001b[0m \u001b[0;34m>\u001b[0m \u001b[0;36m0\u001b[0m \u001b[0;32mand\u001b[0m \u001b[0;34m(\u001b[0m\u001b[0mself\u001b[0m\u001b[0;34m.\u001b[0m\u001b[0mholds_integer\u001b[0m\u001b[0;34m(\u001b[0m\u001b[0;34m)\u001b[0m \u001b[0;32mor\u001b[0m \u001b[0mself\u001b[0m\u001b[0;34m.\u001b[0m\u001b[0mis_boolean\u001b[0m\u001b[0;34m(\u001b[0m\u001b[0;34m)\u001b[0m\u001b[0;34m)\u001b[0m\u001b[0;34m:\u001b[0m\u001b[0;34m\u001b[0m\u001b[0;34m\u001b[0m\u001b[0m\n",
      "\u001b[0;32mpandas/_libs/index.pyx\u001b[0m in \u001b[0;36mpandas._libs.index.IndexEngine.get_value\u001b[0;34m()\u001b[0m\n",
      "\u001b[0;32mpandas/_libs/index.pyx\u001b[0m in \u001b[0;36mpandas._libs.index.IndexEngine.get_value\u001b[0;34m()\u001b[0m\n",
      "\u001b[0;32mpandas/_libs/index.pyx\u001b[0m in \u001b[0;36mpandas._libs.index.IndexEngine.get_loc\u001b[0;34m()\u001b[0m\n",
      "\u001b[0;32mpandas/_libs/index_class_helper.pxi\u001b[0m in \u001b[0;36mpandas._libs.index.Int64Engine._check_type\u001b[0;34m()\u001b[0m\n",
      "\u001b[0;31mKeyError\u001b[0m: 'index'"
     ]
    }
   ],
   "source": [
    "i = 0\n",
    "for i in accidentes:\n",
    "    utm.to_latlon(accidentes['coordenada_x_utm'][i], accidentes['coordenada_y_utm'][i],30, northern = True)"
   ]
  },
  {
   "cell_type": "code",
   "execution_count": 129,
   "metadata": {},
   "outputs": [
    {
     "data": {
      "text/plain": [
       "(40.48124534945095, -3.7154432431839073)"
      ]
     },
     "execution_count": 129,
     "metadata": {},
     "output_type": "execute_result"
    }
   ],
   "source": [
    "hola=utm.to_latlon(accidentes['coordenada_x_utm'][7085], accidentes['coordenada_y_utm'][7085],30, northern = True)\n",
    "hola"
   ]
  },
  {
   "cell_type": "code",
   "execution_count": 165,
   "metadata": {},
   "outputs": [
    {
     "ename": "IndexError",
     "evalue": "invalid index to scalar variable.",
     "output_type": "error",
     "traceback": [
      "\u001b[0;31m---------------------------------------------------------------------------\u001b[0m",
      "\u001b[0;31mIndexError\u001b[0m                                Traceback (most recent call last)",
      "\u001b[0;32m<ipython-input-165-fea9734f4545>\u001b[0m in \u001b[0;36m<module>\u001b[0;34m\u001b[0m\n\u001b[1;32m      1\u001b[0m \u001b[0;32mfor\u001b[0m \u001b[0mi\u001b[0m \u001b[0;32min\u001b[0m \u001b[0mrange\u001b[0m\u001b[0;34m(\u001b[0m\u001b[0mlen\u001b[0m\u001b[0;34m(\u001b[0m\u001b[0maccidentes\u001b[0m\u001b[0;34m)\u001b[0m\u001b[0;34m)\u001b[0m\u001b[0;34m:\u001b[0m\u001b[0;34m\u001b[0m\u001b[0;34m\u001b[0m\u001b[0m\n\u001b[1;32m      2\u001b[0m     \u001b[0mcoordenadas\u001b[0m \u001b[0;34m=\u001b[0m \u001b[0mutm\u001b[0m\u001b[0;34m.\u001b[0m\u001b[0mto_latlon\u001b[0m\u001b[0;34m(\u001b[0m\u001b[0maccidentes\u001b[0m\u001b[0;34m[\u001b[0m\u001b[0;34m'coordenada_x_utm'\u001b[0m\u001b[0;34m]\u001b[0m\u001b[0;34m[\u001b[0m\u001b[0mi\u001b[0m\u001b[0;34m]\u001b[0m\u001b[0;34m,\u001b[0m \u001b[0maccidentes\u001b[0m\u001b[0;34m[\u001b[0m\u001b[0;34m'coordenada_y_utm'\u001b[0m\u001b[0;34m]\u001b[0m\u001b[0;34m[\u001b[0m\u001b[0mi\u001b[0m\u001b[0;34m]\u001b[0m\u001b[0;34m,\u001b[0m\u001b[0;36m30\u001b[0m\u001b[0;34m,\u001b[0m \u001b[0mnorthern\u001b[0m \u001b[0;34m=\u001b[0m \u001b[0;32mTrue\u001b[0m\u001b[0;34m)\u001b[0m\u001b[0;34m\u001b[0m\u001b[0;34m\u001b[0m\u001b[0m\n\u001b[0;32m----> 3\u001b[0;31m     \u001b[0maccidentes\u001b[0m\u001b[0;34m[\u001b[0m\u001b[0;34m'latitud'\u001b[0m\u001b[0;34m]\u001b[0m\u001b[0;34m[\u001b[0m\u001b[0mi\u001b[0m\u001b[0;34m]\u001b[0m \u001b[0;34m=\u001b[0m \u001b[0mcoordenadas\u001b[0m\u001b[0;34m[\u001b[0m\u001b[0mi\u001b[0m\u001b[0;34m]\u001b[0m\u001b[0;34m[\u001b[0m\u001b[0;36m1\u001b[0m\u001b[0;34m]\u001b[0m\u001b[0;34m\u001b[0m\u001b[0;34m\u001b[0m\u001b[0m\n\u001b[0m",
      "\u001b[0;31mIndexError\u001b[0m: invalid index to scalar variable."
     ]
    }
   ],
   "source": [
    "for i in range(len(accidentes)):\n",
    "    coordenadas = utm.to_latlon(accidentes['coordenada_x_utm'][i], accidentes['coordenada_y_utm'][i],30, northern = True)\n",
    "    accidentes['latitud'][i] = coordenadas[i][1]"
   ]
  },
  {
   "cell_type": "code",
   "execution_count": 189,
   "metadata": {},
   "outputs": [
    {
     "data": {
      "text/plain": [
       "40.424337791061994"
      ]
     },
     "execution_count": 189,
     "metadata": {},
     "output_type": "execute_result"
    }
   ],
   "source": [
    "accidentes['coordenadas'][3][0]"
   ]
  },
  {
   "cell_type": "code",
   "execution_count": 197,
   "metadata": {},
   "outputs": [
    {
     "data": {
      "text/plain": [
       "-3.685131434467239"
      ]
     },
     "execution_count": 197,
     "metadata": {},
     "output_type": "execute_result"
    }
   ],
   "source": [
    "accidentes['coordenadas'][1][1]"
   ]
  },
  {
   "cell_type": "code",
   "execution_count": 198,
   "metadata": {},
   "outputs": [
    {
     "name": "stderr",
     "output_type": "stream",
     "text": [
      "/opt/anaconda3/lib/python3.7/site-packages/ipykernel_launcher.py:3: SettingWithCopyWarning: \n",
      "A value is trying to be set on a copy of a slice from a DataFrame\n",
      "\n",
      "See the caveats in the documentation: http://pandas.pydata.org/pandas-docs/stable/user_guide/indexing.html#returning-a-view-versus-a-copy\n",
      "  This is separate from the ipykernel package so we can avoid doing imports until\n",
      "/opt/anaconda3/lib/python3.7/site-packages/ipykernel_launcher.py:4: SettingWithCopyWarning: \n",
      "A value is trying to be set on a copy of a slice from a DataFrame\n",
      "\n",
      "See the caveats in the documentation: http://pandas.pydata.org/pandas-docs/stable/user_guide/indexing.html#returning-a-view-versus-a-copy\n",
      "  after removing the cwd from sys.path.\n"
     ]
    }
   ],
   "source": [
    "accidentes['longitud'] = 3.5\n",
    "for i in range(len(accidentes)):\n",
    "    accidentes['latitud'][i] = accidentes['coordenadas'][i][0]\n",
    "    accidentes['longitud'][i] = accidentes['coordenadas'][i][1]"
   ]
  },
  {
   "cell_type": "code",
   "execution_count": 199,
   "metadata": {},
   "outputs": [
    {
     "data": {
      "text/html": [
       "<div>\n",
       "<style scoped>\n",
       "    .dataframe tbody tr th:only-of-type {\n",
       "        vertical-align: middle;\n",
       "    }\n",
       "\n",
       "    .dataframe tbody tr th {\n",
       "        vertical-align: top;\n",
       "    }\n",
       "\n",
       "    .dataframe thead th {\n",
       "        text-align: right;\n",
       "    }\n",
       "</style>\n",
       "<table border=\"1\" class=\"dataframe\">\n",
       "  <thead>\n",
       "    <tr style=\"text-align: right;\">\n",
       "      <th></th>\n",
       "      <th>level_0</th>\n",
       "      <th>index</th>\n",
       "      <th>cod_distrito</th>\n",
       "      <th>cod_lesividad</th>\n",
       "      <th>coordenada_x_utm</th>\n",
       "      <th>coordenada_y_utm</th>\n",
       "      <th>distrito</th>\n",
       "      <th>estado_meteorológico</th>\n",
       "      <th>fecha</th>\n",
       "      <th>hora</th>\n",
       "      <th>...</th>\n",
       "      <th>numero</th>\n",
       "      <th>rango_edad</th>\n",
       "      <th>sexo</th>\n",
       "      <th>tipo_accidente</th>\n",
       "      <th>tipo_lesividad</th>\n",
       "      <th>tipo_persona</th>\n",
       "      <th>tipo_vehículo</th>\n",
       "      <th>coordenadas</th>\n",
       "      <th>latitud</th>\n",
       "      <th>longitud</th>\n",
       "    </tr>\n",
       "  </thead>\n",
       "  <tbody>\n",
       "    <tr>\n",
       "      <td>0</td>\n",
       "      <td>0</td>\n",
       "      <td>352</td>\n",
       "      <td>4.0</td>\n",
       "      <td>1.0</td>\n",
       "      <td>442218.740</td>\n",
       "      <td>4475612.690</td>\n",
       "      <td>SALAMANCA</td>\n",
       "      <td>Despejado</td>\n",
       "      <td>2019-01-01</td>\n",
       "      <td>14:00:00</td>\n",
       "      <td>...</td>\n",
       "      <td>60</td>\n",
       "      <td>De 25 a 29 años</td>\n",
       "      <td>Hombre</td>\n",
       "      <td>Alcance</td>\n",
       "      <td>Atención en urgencias sin posterior ingreso</td>\n",
       "      <td>Conductor</td>\n",
       "      <td>Bicicleta</td>\n",
       "      <td>(40.429145412719386, -3.6811959251048036)</td>\n",
       "      <td>40.429145</td>\n",
       "      <td>-3.681196</td>\n",
       "    </tr>\n",
       "    <tr>\n",
       "      <td>1</td>\n",
       "      <td>1</td>\n",
       "      <td>52</td>\n",
       "      <td>5.0</td>\n",
       "      <td>2.0</td>\n",
       "      <td>441926.445</td>\n",
       "      <td>4480967.858</td>\n",
       "      <td>CHAMARTÍN</td>\n",
       "      <td>Despejado</td>\n",
       "      <td>2019-01-01</td>\n",
       "      <td>12:29:00</td>\n",
       "      <td>...</td>\n",
       "      <td>4</td>\n",
       "      <td>De 55 a 59 años</td>\n",
       "      <td>Hombre</td>\n",
       "      <td>Alcance</td>\n",
       "      <td>Ingreso inferior o igual a 24 horas</td>\n",
       "      <td>Pasajero</td>\n",
       "      <td>Turismo</td>\n",
       "      <td>(40.47736682236528, -3.685131434467239)</td>\n",
       "      <td>40.477367</td>\n",
       "      <td>-3.685131</td>\n",
       "    </tr>\n",
       "    <tr>\n",
       "      <td>2</td>\n",
       "      <td>2</td>\n",
       "      <td>61</td>\n",
       "      <td>4.0</td>\n",
       "      <td>7.0</td>\n",
       "      <td>441415.905</td>\n",
       "      <td>4475085.246</td>\n",
       "      <td>SALAMANCA</td>\n",
       "      <td>Despejado</td>\n",
       "      <td>2019-01-01</td>\n",
       "      <td>19:15:00</td>\n",
       "      <td>...</td>\n",
       "      <td>22</td>\n",
       "      <td>De 18 a 20 años</td>\n",
       "      <td>Hombre</td>\n",
       "      <td>Alcance</td>\n",
       "      <td>Asistencia sanitaria sólo en el lugar del acci...</td>\n",
       "      <td>Pasajero</td>\n",
       "      <td>Turismo</td>\n",
       "      <td>(40.424337791061994, -3.690611472631823)</td>\n",
       "      <td>40.424338</td>\n",
       "      <td>-3.690611</td>\n",
       "    </tr>\n",
       "    <tr>\n",
       "      <td>3</td>\n",
       "      <td>3</td>\n",
       "      <td>60</td>\n",
       "      <td>4.0</td>\n",
       "      <td>7.0</td>\n",
       "      <td>441415.905</td>\n",
       "      <td>4475085.246</td>\n",
       "      <td>SALAMANCA</td>\n",
       "      <td>Despejado</td>\n",
       "      <td>2019-01-01</td>\n",
       "      <td>19:15:00</td>\n",
       "      <td>...</td>\n",
       "      <td>22</td>\n",
       "      <td>De 50 a 54 años</td>\n",
       "      <td>Hombre</td>\n",
       "      <td>Alcance</td>\n",
       "      <td>Asistencia sanitaria sólo en el lugar del acci...</td>\n",
       "      <td>Conductor</td>\n",
       "      <td>Turismo</td>\n",
       "      <td>(40.424337791061994, -3.690611472631823)</td>\n",
       "      <td>40.424338</td>\n",
       "      <td>-3.690611</td>\n",
       "    </tr>\n",
       "    <tr>\n",
       "      <td>4</td>\n",
       "      <td>4</td>\n",
       "      <td>59</td>\n",
       "      <td>4.0</td>\n",
       "      <td>7.0</td>\n",
       "      <td>441415.905</td>\n",
       "      <td>4475085.246</td>\n",
       "      <td>SALAMANCA</td>\n",
       "      <td>Despejado</td>\n",
       "      <td>2019-01-01</td>\n",
       "      <td>19:15:00</td>\n",
       "      <td>...</td>\n",
       "      <td>22</td>\n",
       "      <td>De 50 a 54 años</td>\n",
       "      <td>Hombre</td>\n",
       "      <td>Alcance</td>\n",
       "      <td>Asistencia sanitaria sólo en el lugar del acci...</td>\n",
       "      <td>Conductor</td>\n",
       "      <td>Turismo</td>\n",
       "      <td>(40.424337791061994, -3.690611472631823)</td>\n",
       "      <td>40.424338</td>\n",
       "      <td>-3.690611</td>\n",
       "    </tr>\n",
       "    <tr>\n",
       "      <td>...</td>\n",
       "      <td>...</td>\n",
       "      <td>...</td>\n",
       "      <td>...</td>\n",
       "      <td>...</td>\n",
       "      <td>...</td>\n",
       "      <td>...</td>\n",
       "      <td>...</td>\n",
       "      <td>...</td>\n",
       "      <td>...</td>\n",
       "      <td>...</td>\n",
       "      <td>...</td>\n",
       "      <td>...</td>\n",
       "      <td>...</td>\n",
       "      <td>...</td>\n",
       "      <td>...</td>\n",
       "      <td>...</td>\n",
       "      <td>...</td>\n",
       "      <td>...</td>\n",
       "      <td>...</td>\n",
       "      <td>...</td>\n",
       "      <td>...</td>\n",
       "    </tr>\n",
       "    <tr>\n",
       "      <td>20508</td>\n",
       "      <td>20508</td>\n",
       "      <td>32307</td>\n",
       "      <td>20.0</td>\n",
       "      <td>7.0</td>\n",
       "      <td>447928.931</td>\n",
       "      <td>4477329.636</td>\n",
       "      <td>SAN BLAS-CANILLEJAS</td>\n",
       "      <td>Nublado</td>\n",
       "      <td>2020-12-31</td>\n",
       "      <td>20:25:00</td>\n",
       "      <td>...</td>\n",
       "      <td>3</td>\n",
       "      <td>De 18 a 20 años</td>\n",
       "      <td>Hombre</td>\n",
       "      <td>Colisión fronto-lateral</td>\n",
       "      <td>Asistencia sanitaria sólo en el lugar del acci...</td>\n",
       "      <td>Pasajero</td>\n",
       "      <td>Turismo</td>\n",
       "      <td>(40.4449897325692, -3.6140217965059023)</td>\n",
       "      <td>40.444990</td>\n",
       "      <td>-3.614022</td>\n",
       "    </tr>\n",
       "    <tr>\n",
       "      <td>20509</td>\n",
       "      <td>20509</td>\n",
       "      <td>32243</td>\n",
       "      <td>8.0</td>\n",
       "      <td>6.0</td>\n",
       "      <td>439203.246</td>\n",
       "      <td>4480235.521</td>\n",
       "      <td>FUENCARRAL-EL PARDO</td>\n",
       "      <td>Lluvia débil</td>\n",
       "      <td>2020-12-31</td>\n",
       "      <td>19:50:00</td>\n",
       "      <td>...</td>\n",
       "      <td>14</td>\n",
       "      <td>De 15 a 17 años</td>\n",
       "      <td>Hombre</td>\n",
       "      <td>Atropello a persona</td>\n",
       "      <td>Asistencia sanitaria inmediata en centro de sa...</td>\n",
       "      <td>Peatón</td>\n",
       "      <td>Turismo</td>\n",
       "      <td>(40.470574772866456, -3.717186248661302)</td>\n",
       "      <td>40.470575</td>\n",
       "      <td>-3.717186</td>\n",
       "    </tr>\n",
       "    <tr>\n",
       "      <td>20510</td>\n",
       "      <td>20510</td>\n",
       "      <td>32229</td>\n",
       "      <td>12.0</td>\n",
       "      <td>7.0</td>\n",
       "      <td>443286.423</td>\n",
       "      <td>4472378.246</td>\n",
       "      <td>USERA</td>\n",
       "      <td>Despejado</td>\n",
       "      <td>2020-12-31</td>\n",
       "      <td>19:05:00</td>\n",
       "      <td>...</td>\n",
       "      <td>+01400E</td>\n",
       "      <td>De 18 a 20 años</td>\n",
       "      <td>Mujer</td>\n",
       "      <td>Alcance</td>\n",
       "      <td>Asistencia sanitaria sólo en el lugar del acci...</td>\n",
       "      <td>Conductor</td>\n",
       "      <td>Turismo</td>\n",
       "      <td>(40.40008126783263, -3.668321243399736)</td>\n",
       "      <td>40.400081</td>\n",
       "      <td>-3.668321</td>\n",
       "    </tr>\n",
       "    <tr>\n",
       "      <td>20511</td>\n",
       "      <td>20511</td>\n",
       "      <td>32252</td>\n",
       "      <td>16.0</td>\n",
       "      <td>3.0</td>\n",
       "      <td>445330.409</td>\n",
       "      <td>4480520.833</td>\n",
       "      <td>HORTALEZA</td>\n",
       "      <td>Despejado</td>\n",
       "      <td>2020-12-31</td>\n",
       "      <td>21:20:00</td>\n",
       "      <td>...</td>\n",
       "      <td>25</td>\n",
       "      <td>De 15 a 17 años</td>\n",
       "      <td>Mujer</td>\n",
       "      <td>Atropello a persona</td>\n",
       "      <td>Ingreso superior a 24 horas</td>\n",
       "      <td>Peatón</td>\n",
       "      <td>Turismo</td>\n",
       "      <td>(40.47357086725829, -3.6449366171857998)</td>\n",
       "      <td>40.473571</td>\n",
       "      <td>-3.644937</td>\n",
       "    </tr>\n",
       "    <tr>\n",
       "      <td>20512</td>\n",
       "      <td>20512</td>\n",
       "      <td>32298</td>\n",
       "      <td>5.0</td>\n",
       "      <td>7.0</td>\n",
       "      <td>441722.206</td>\n",
       "      <td>4480438.498</td>\n",
       "      <td>CHAMARTÍN</td>\n",
       "      <td>Despejado</td>\n",
       "      <td>2020-12-31</td>\n",
       "      <td>09:05:00</td>\n",
       "      <td>...</td>\n",
       "      <td>264</td>\n",
       "      <td>De 25 a 29 años</td>\n",
       "      <td>Mujer</td>\n",
       "      <td>Colisión fronto-lateral</td>\n",
       "      <td>Asistencia sanitaria sólo en el lugar del acci...</td>\n",
       "      <td>Conductor</td>\n",
       "      <td>Turismo</td>\n",
       "      <td>(40.47258382225264, -3.6874921689042783)</td>\n",
       "      <td>40.472584</td>\n",
       "      <td>-3.687492</td>\n",
       "    </tr>\n",
       "  </tbody>\n",
       "</table>\n",
       "<p>20513 rows × 22 columns</p>\n",
       "</div>"
      ],
      "text/plain": [
       "       level_0  index  cod_distrito  cod_lesividad  coordenada_x_utm  \\\n",
       "0            0    352           4.0            1.0        442218.740   \n",
       "1            1     52           5.0            2.0        441926.445   \n",
       "2            2     61           4.0            7.0        441415.905   \n",
       "3            3     60           4.0            7.0        441415.905   \n",
       "4            4     59           4.0            7.0        441415.905   \n",
       "...        ...    ...           ...            ...               ...   \n",
       "20508    20508  32307          20.0            7.0        447928.931   \n",
       "20509    20509  32243           8.0            6.0        439203.246   \n",
       "20510    20510  32229          12.0            7.0        443286.423   \n",
       "20511    20511  32252          16.0            3.0        445330.409   \n",
       "20512    20512  32298           5.0            7.0        441722.206   \n",
       "\n",
       "       coordenada_y_utm             distrito estado_meteorológico       fecha  \\\n",
       "0           4475612.690            SALAMANCA            Despejado  2019-01-01   \n",
       "1           4480967.858            CHAMARTÍN            Despejado  2019-01-01   \n",
       "2           4475085.246            SALAMANCA            Despejado  2019-01-01   \n",
       "3           4475085.246            SALAMANCA            Despejado  2019-01-01   \n",
       "4           4475085.246            SALAMANCA            Despejado  2019-01-01   \n",
       "...                 ...                  ...                  ...         ...   \n",
       "20508       4477329.636  SAN BLAS-CANILLEJAS              Nublado  2020-12-31   \n",
       "20509       4480235.521  FUENCARRAL-EL PARDO         Lluvia débil  2020-12-31   \n",
       "20510       4472378.246                USERA            Despejado  2020-12-31   \n",
       "20511       4480520.833            HORTALEZA            Despejado  2020-12-31   \n",
       "20512       4480438.498            CHAMARTÍN            Despejado  2020-12-31   \n",
       "\n",
       "           hora  ...   numero       rango_edad    sexo  \\\n",
       "0      14:00:00  ...       60  De 25 a 29 años  Hombre   \n",
       "1      12:29:00  ...        4  De 55 a 59 años  Hombre   \n",
       "2      19:15:00  ...       22  De 18 a 20 años  Hombre   \n",
       "3      19:15:00  ...       22  De 50 a 54 años  Hombre   \n",
       "4      19:15:00  ...       22  De 50 a 54 años  Hombre   \n",
       "...         ...  ...      ...              ...     ...   \n",
       "20508  20:25:00  ...        3  De 18 a 20 años  Hombre   \n",
       "20509  19:50:00  ...       14  De 15 a 17 años  Hombre   \n",
       "20510  19:05:00  ...  +01400E  De 18 a 20 años   Mujer   \n",
       "20511  21:20:00  ...       25  De 15 a 17 años   Mujer   \n",
       "20512  09:05:00  ...      264  De 25 a 29 años   Mujer   \n",
       "\n",
       "                tipo_accidente  \\\n",
       "0                      Alcance   \n",
       "1                      Alcance   \n",
       "2                      Alcance   \n",
       "3                      Alcance   \n",
       "4                      Alcance   \n",
       "...                        ...   \n",
       "20508  Colisión fronto-lateral   \n",
       "20509      Atropello a persona   \n",
       "20510                  Alcance   \n",
       "20511      Atropello a persona   \n",
       "20512  Colisión fronto-lateral   \n",
       "\n",
       "                                          tipo_lesividad tipo_persona  \\\n",
       "0            Atención en urgencias sin posterior ingreso    Conductor   \n",
       "1                    Ingreso inferior o igual a 24 horas     Pasajero   \n",
       "2      Asistencia sanitaria sólo en el lugar del acci...     Pasajero   \n",
       "3      Asistencia sanitaria sólo en el lugar del acci...    Conductor   \n",
       "4      Asistencia sanitaria sólo en el lugar del acci...    Conductor   \n",
       "...                                                  ...          ...   \n",
       "20508  Asistencia sanitaria sólo en el lugar del acci...     Pasajero   \n",
       "20509  Asistencia sanitaria inmediata en centro de sa...       Peatón   \n",
       "20510  Asistencia sanitaria sólo en el lugar del acci...    Conductor   \n",
       "20511                        Ingreso superior a 24 horas       Peatón   \n",
       "20512  Asistencia sanitaria sólo en el lugar del acci...    Conductor   \n",
       "\n",
       "      tipo_vehículo                                coordenadas    latitud  \\\n",
       "0         Bicicleta  (40.429145412719386, -3.6811959251048036)  40.429145   \n",
       "1           Turismo    (40.47736682236528, -3.685131434467239)  40.477367   \n",
       "2           Turismo   (40.424337791061994, -3.690611472631823)  40.424338   \n",
       "3           Turismo   (40.424337791061994, -3.690611472631823)  40.424338   \n",
       "4           Turismo   (40.424337791061994, -3.690611472631823)  40.424338   \n",
       "...             ...                                        ...        ...   \n",
       "20508       Turismo    (40.4449897325692, -3.6140217965059023)  40.444990   \n",
       "20509       Turismo   (40.470574772866456, -3.717186248661302)  40.470575   \n",
       "20510       Turismo    (40.40008126783263, -3.668321243399736)  40.400081   \n",
       "20511       Turismo   (40.47357086725829, -3.6449366171857998)  40.473571   \n",
       "20512       Turismo   (40.47258382225264, -3.6874921689042783)  40.472584   \n",
       "\n",
       "       longitud  \n",
       "0     -3.681196  \n",
       "1     -3.685131  \n",
       "2     -3.690611  \n",
       "3     -3.690611  \n",
       "4     -3.690611  \n",
       "...         ...  \n",
       "20508 -3.614022  \n",
       "20509 -3.717186  \n",
       "20510 -3.668321  \n",
       "20511 -3.644937  \n",
       "20512 -3.687492  \n",
       "\n",
       "[20513 rows x 22 columns]"
      ]
     },
     "execution_count": 199,
     "metadata": {},
     "output_type": "execute_result"
    }
   ],
   "source": [
    "accidentes"
   ]
  },
  {
   "cell_type": "code",
   "execution_count": 200,
   "metadata": {},
   "outputs": [],
   "source": [
    "accidentes.to_excel('accidentes_coordenadas.xlsx')"
   ]
  },
  {
   "cell_type": "code",
   "execution_count": 33,
   "metadata": {},
   "outputs": [
    {
     "name": "stdout",
     "output_type": "stream",
     "text": [
      "40.4887887 -3.6968918\n"
     ]
    }
   ],
   "source": [
    "locator = Nominatim(user_agent=\"myGeocoder\")\n",
    "location = locator.geocode(\"CALLE SAN MODESTO Madrid\")\n",
    "#ejemplo de codificar una direccion\n",
    "print(location.latitude, location.longitude)"
   ]
  },
  {
   "cell_type": "code",
   "execution_count": null,
   "metadata": {},
   "outputs": [],
   "source": [
    "lat=[]\n",
    "lon=[]\n",
    "wr=[]\n",
    "for i in range(len(df)):#tu datframe\n",
    "    \n",
    "    locator = Nominatim(user_agent=\"myGeocoder\")\n",
    "    location=(locator.geocode(df['direcciones'][i]))#tu columna de dataframe\n",
    "    try:         \n",
    "        if location!=None:\n",
    "            print(i)\n",
    "            lat.append(location.latitude)\n",
    "            lat.append(str(i))\n",
    "            lon.append(location.longitude)\n",
    "            lon.append(str(i))\n",
    "        else:\n",
    "            print(\"Hay direcciones malas\"+str(i))\n",
    "            wr.append(str(i))\n",
    "    except:\n",
    "        print(\"An exception occurred\")\n",
    "        print(\"Hay direcciones malas\"+str(i))\n",
    "        wr.append(str(i))\n",
    "        \n",
    "import pandas as pd\n",
    "import numpy as np\n",
    "dlat = pd.DataFrame(np.array(lat).reshape(-1,2))\n",
    "dlon = pd.DataFrame(np.array(lon).reshape(-1,2))\n",
    "\n",
    "result = pd.concat([dlat, dlon], axis=1).reindex(dlon.index)\n",
    "result.columns=[\"lat\",\"in\",\"lon\",\"in2\"]\n",
    "result"
   ]
  }
 ],
 "metadata": {
  "kernelspec": {
   "display_name": "Python 3",
   "language": "python",
   "name": "python3"
  },
  "language_info": {
   "codemirror_mode": {
    "name": "ipython",
    "version": 3
   },
   "file_extension": ".py",
   "mimetype": "text/x-python",
   "name": "python",
   "nbconvert_exporter": "python",
   "pygments_lexer": "ipython3",
   "version": "3.7.4"
  }
 },
 "nbformat": 4,
 "nbformat_minor": 5
}

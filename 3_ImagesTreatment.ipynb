{
 "cells": [
  {
   "cell_type": "markdown",
   "metadata": {},
   "source": [
    "# 1. Import Dependencies"
   ]
  },
  {
   "cell_type": "code",
   "execution_count": 1,
   "metadata": {},
   "outputs": [
    {
     "name": "stdout",
     "output_type": "stream",
     "text": [
      "Requirement already satisfied: opencv-python in d:\\youtube\\od\\tfodcourse\\tfod\\lib\\site-packages (4.5.1.48)\n",
      "Requirement already satisfied: numpy>=1.14.5 in d:\\youtube\\od\\tfodcourse\\tfod\\lib\\site-packages (from opencv-python) (1.20.2)\n"
     ]
    }
   ],
   "source": [
    "!pip install opencv-python"
   ]
  },
  {
   "cell_type": "code",
   "execution_count": 1,
   "metadata": {},
   "outputs": [],
   "source": [
    "# Import opencv\n",
    "import cv2 \n",
    "\n",
    "# Import uuid\n",
    "import uuid\n",
    "\n",
    "# Import Operating System\n",
    "import os\n",
    "\n",
    "# Import time\n",
    "import time"
   ]
  },
  {
   "cell_type": "markdown",
   "metadata": {},
   "source": [
    "# 2. Define Images to Collect"
   ]
  },
  {
   "cell_type": "code",
   "execution_count": 2,
   "metadata": {},
   "outputs": [],
   "source": [
    "labels = ['accident']\n",
    "number_imgs = 5"
   ]
  },
  {
   "cell_type": "markdown",
   "metadata": {},
   "source": [
    "# 3. Setup Folders "
   ]
  },
  {
   "cell_type": "code",
   "execution_count": 3,
   "metadata": {},
   "outputs": [],
   "source": [
    "IMAGES_PATH = os.path.join('Tensorflow', 'workspace', 'images', 'collectedimages')"
   ]
  },
  {
   "cell_type": "code",
   "execution_count": 4,
   "metadata": {},
   "outputs": [],
   "source": [
    "if not os.path.exists(IMAGES_PATH):\n",
    "    if os.name == 'posix':\n",
    "        !mkdir -p {IMAGES_PATH}\n",
    "    if os.name == 'nt':\n",
    "         !mkdir {IMAGES_PATH}\n",
    "for label in labels:\n",
    "    path = os.path.join(IMAGES_PATH, label)\n",
    "    if not os.path.exists(path):\n",
    "        !mkdir {path}"
   ]
  },
  {
   "cell_type": "markdown",
   "metadata": {},
   "source": [
    "# 4. Capture Images"
   ]
  },
  {
   "cell_type": "code",
   "execution_count": 8,
   "metadata": {
    "collapsed": true
   },
   "outputs": [
    {
     "name": "stdout",
     "output_type": "stream",
     "text": [
      "7\n",
      "https://www.youtube.com/watch?v=Xx4zFDMACME\n",
      "https://www.youtube.com/watch?v=nsj1mBR4osc\n",
      "https://www.youtube.com/watch?v=PPK97vCnNZw\n",
      "https://www.youtube.com/watch?v=YC83rRoHdpM\n",
      "https://www.youtube.com/watch?v=A2Qvl6FXd5U\n",
      "https://www.youtube.com/watch?v=rRFPv0mlcl8\n",
      "https://www.youtube.com/watch?v=rye4l3Rul2k\n",
      "downloading : Espectacular accidente en la m-45 (1) with url : https://youtube.com/watch?v=Xx4zFDMACME\n",
      "downloading : Salida de la vía y posterior vuelco with url : https://youtube.com/watch?v=nsj1mBR4osc\n",
      "downloading : Accidente en la A6 with url : https://youtube.com/watch?v=PPK97vCnNZw\n",
      "downloading : Impactante accidente with url : https://youtube.com/watch?v=YC83rRoHdpM\n"
     ]
    },
    {
     "ename": "KeyError",
     "evalue": "'streamingData'",
     "output_type": "error",
     "traceback": [
      "\u001b[0;31m---------------------------------------------------------------------------\u001b[0m",
      "\u001b[0;31mKeyError\u001b[0m                                  Traceback (most recent call last)",
      "\u001b[0;32m<ipython-input-8-0fa1d3119cfe>\u001b[0m in \u001b[0;36m<module>\u001b[0;34m\u001b[0m\n\u001b[1;32m      9\u001b[0m \u001b[0;32mfor\u001b[0m \u001b[0mvideo\u001b[0m \u001b[0;32min\u001b[0m \u001b[0mplaylist\u001b[0m\u001b[0;34m.\u001b[0m\u001b[0mvideos\u001b[0m\u001b[0;34m:\u001b[0m\u001b[0;34m\u001b[0m\u001b[0;34m\u001b[0m\u001b[0m\n\u001b[1;32m     10\u001b[0m     \u001b[0mprint\u001b[0m\u001b[0;34m(\u001b[0m\u001b[0;34m'downloading : {} with url : {}'\u001b[0m\u001b[0;34m.\u001b[0m\u001b[0mformat\u001b[0m\u001b[0;34m(\u001b[0m\u001b[0mvideo\u001b[0m\u001b[0;34m.\u001b[0m\u001b[0mtitle\u001b[0m\u001b[0;34m,\u001b[0m \u001b[0mvideo\u001b[0m\u001b[0;34m.\u001b[0m\u001b[0mwatch_url\u001b[0m\u001b[0;34m)\u001b[0m\u001b[0;34m)\u001b[0m\u001b[0;34m\u001b[0m\u001b[0;34m\u001b[0m\u001b[0m\n\u001b[0;32m---> 11\u001b[0;31m     \u001b[0mvideo\u001b[0m\u001b[0;34m.\u001b[0m\u001b[0mstreams\u001b[0m\u001b[0;34m.\u001b[0m\u001b[0;31m\\\u001b[0m\u001b[0;34m\u001b[0m\u001b[0;34m\u001b[0m\u001b[0m\n\u001b[0m\u001b[1;32m     12\u001b[0m         \u001b[0mfilter\u001b[0m\u001b[0;34m(\u001b[0m\u001b[0mtype\u001b[0m\u001b[0;34m=\u001b[0m\u001b[0;34m'video'\u001b[0m\u001b[0;34m,\u001b[0m \u001b[0mprogressive\u001b[0m\u001b[0;34m=\u001b[0m\u001b[0;32mTrue\u001b[0m\u001b[0;34m,\u001b[0m \u001b[0mfile_extension\u001b[0m\u001b[0;34m=\u001b[0m\u001b[0;34m'mp4'\u001b[0m\u001b[0;34m)\u001b[0m\u001b[0;34m.\u001b[0m\u001b[0;31m\\\u001b[0m\u001b[0;34m\u001b[0m\u001b[0;34m\u001b[0m\u001b[0m\n\u001b[1;32m     13\u001b[0m         \u001b[0morder_by\u001b[0m\u001b[0;34m(\u001b[0m\u001b[0;34m'resolution'\u001b[0m\u001b[0;34m)\u001b[0m\u001b[0;34m.\u001b[0m\u001b[0;31m\\\u001b[0m\u001b[0;34m\u001b[0m\u001b[0;34m\u001b[0m\u001b[0m\n",
      "\u001b[0;32m/opt/anaconda3/lib/python3.7/site-packages/pytube/__main__.py\u001b[0m in \u001b[0;36mstreams\u001b[0;34m(self)\u001b[0m\n\u001b[1;32m    294\u001b[0m         \"\"\"\n\u001b[1;32m    295\u001b[0m         \u001b[0mself\u001b[0m\u001b[0;34m.\u001b[0m\u001b[0mcheck_availability\u001b[0m\u001b[0;34m(\u001b[0m\u001b[0;34m)\u001b[0m\u001b[0;34m\u001b[0m\u001b[0;34m\u001b[0m\u001b[0m\n\u001b[0;32m--> 296\u001b[0;31m         \u001b[0;32mreturn\u001b[0m \u001b[0mStreamQuery\u001b[0m\u001b[0;34m(\u001b[0m\u001b[0mself\u001b[0m\u001b[0;34m.\u001b[0m\u001b[0mfmt_streams\u001b[0m\u001b[0;34m)\u001b[0m\u001b[0;34m\u001b[0m\u001b[0;34m\u001b[0m\u001b[0m\n\u001b[0m\u001b[1;32m    297\u001b[0m \u001b[0;34m\u001b[0m\u001b[0m\n\u001b[1;32m    298\u001b[0m     \u001b[0;34m@\u001b[0m\u001b[0mproperty\u001b[0m\u001b[0;34m\u001b[0m\u001b[0;34m\u001b[0m\u001b[0m\n",
      "\u001b[0;32m/opt/anaconda3/lib/python3.7/site-packages/pytube/__main__.py\u001b[0m in \u001b[0;36mfmt_streams\u001b[0;34m(self)\u001b[0m\n\u001b[1;32m    174\u001b[0m         \u001b[0mself\u001b[0m\u001b[0;34m.\u001b[0m\u001b[0m_fmt_streams\u001b[0m \u001b[0;34m=\u001b[0m \u001b[0;34m[\u001b[0m\u001b[0;34m]\u001b[0m\u001b[0;34m\u001b[0m\u001b[0;34m\u001b[0m\u001b[0m\n\u001b[1;32m    175\u001b[0m \u001b[0;34m\u001b[0m\u001b[0m\n\u001b[0;32m--> 176\u001b[0;31m         \u001b[0mstream_manifest\u001b[0m \u001b[0;34m=\u001b[0m \u001b[0mextract\u001b[0m\u001b[0;34m.\u001b[0m\u001b[0mapply_descrambler\u001b[0m\u001b[0;34m(\u001b[0m\u001b[0mself\u001b[0m\u001b[0;34m.\u001b[0m\u001b[0mstreaming_data\u001b[0m\u001b[0;34m)\u001b[0m\u001b[0;34m\u001b[0m\u001b[0;34m\u001b[0m\u001b[0m\n\u001b[0m\u001b[1;32m    177\u001b[0m \u001b[0;34m\u001b[0m\u001b[0m\n\u001b[1;32m    178\u001b[0m         \u001b[0;31m# If the cached js doesn't work, try fetching a new js file\u001b[0m\u001b[0;34m\u001b[0m\u001b[0;34m\u001b[0m\u001b[0;34m\u001b[0m\u001b[0m\n",
      "\u001b[0;32m/opt/anaconda3/lib/python3.7/site-packages/pytube/__main__.py\u001b[0m in \u001b[0;36mstreaming_data\u001b[0;34m(self)\u001b[0m\n\u001b[1;32m    159\u001b[0m         \u001b[0;32melse\u001b[0m\u001b[0;34m:\u001b[0m\u001b[0;34m\u001b[0m\u001b[0;34m\u001b[0m\u001b[0m\n\u001b[1;32m    160\u001b[0m             \u001b[0mself\u001b[0m\u001b[0;34m.\u001b[0m\u001b[0mbypass_age_gate\u001b[0m\u001b[0;34m(\u001b[0m\u001b[0;34m)\u001b[0m\u001b[0;34m\u001b[0m\u001b[0;34m\u001b[0m\u001b[0m\n\u001b[0;32m--> 161\u001b[0;31m             \u001b[0;32mreturn\u001b[0m \u001b[0mself\u001b[0m\u001b[0;34m.\u001b[0m\u001b[0mvid_info\u001b[0m\u001b[0;34m[\u001b[0m\u001b[0;34m'streamingData'\u001b[0m\u001b[0;34m]\u001b[0m\u001b[0;34m\u001b[0m\u001b[0;34m\u001b[0m\u001b[0m\n\u001b[0m\u001b[1;32m    162\u001b[0m \u001b[0;34m\u001b[0m\u001b[0m\n\u001b[1;32m    163\u001b[0m     \u001b[0;34m@\u001b[0m\u001b[0mproperty\u001b[0m\u001b[0;34m\u001b[0m\u001b[0;34m\u001b[0m\u001b[0m\n",
      "\u001b[0;31mKeyError\u001b[0m: 'streamingData'"
     ]
    }
   ],
   "source": [
    "import re\n",
    "from pytube import Playlist\n",
    "playlist = Playlist('https://youtube.com/playlist?list=PLFXhAdtWBlDHykURLgNsEjfQFolH5Fd0Z')   \n",
    "DOWNLOAD_DIR = '/Users/pabloneira/Desktop/TFG/TFODCourse/accidents'\n",
    "playlist._video_regex = re.compile(r\"\\\"url\\\":\\\"(/watch\\?v=[\\w-]*)\")    \n",
    "print(len(playlist.video_urls))    \n",
    "for url in playlist.video_urls:\n",
    "    print(url)    \n",
    "for video in playlist.videos:\n",
    "    print('downloading : {} with url : {}'.format(video.title, video.watch_url))\n",
    "    video.streams.\\\n",
    "        filter(type='video', progressive=True, file_extension='mp4').\\\n",
    "        order_by('resolution').\\\n",
    "        desc().\\\n",
    "        first().\\\n",
    "        download(DOWNLOAD_DIR)"
   ]
  },
  {
   "cell_type": "code",
   "execution_count": 19,
   "metadata": {},
   "outputs": [],
   "source": [
    "os.chdir('/Users/pabloneira/Desktop/TFG/TFODCourse/accidents')"
   ]
  },
  {
   "cell_type": "code",
   "execution_count": 20,
   "metadata": {},
   "outputs": [
    {
     "name": "stdout",
     "output_type": "stream",
     "text": [
      "Enter path to video: /Users/pabloneira/Desktop/TFG/TFODCourse/accidents/CCTV CAR CRASHES LIVE | CCTV LIVE.mp4\n"
     ]
    }
   ],
   "source": [
    "root = input(\"Enter path to video: \")"
   ]
  },
  {
   "cell_type": "code",
   "execution_count": 47,
   "metadata": {},
   "outputs": [],
   "source": [
    "cam = cv2.VideoCapture('/Users/pabloneira/Desktop/TFG/TFODCourse/accidents/Sin control.mp4')"
   ]
  },
  {
   "cell_type": "code",
   "execution_count": 48,
   "metadata": {},
   "outputs": [],
   "source": [
    "currentFrame = 13514"
   ]
  },
  {
   "cell_type": "code",
   "execution_count": 49,
   "metadata": {},
   "outputs": [
    {
     "name": "stdout",
     "output_type": "stream",
     "text": [
      "Extracting... newframe13514.jpg\n",
      "Extracting... newframe13515.jpg\n",
      "Extracting... newframe13516.jpg\n",
      "Extracting... newframe13517.jpg\n",
      "Extracting... newframe13518.jpg\n",
      "Extracting... newframe13519.jpg\n",
      "Extracting... newframe13520.jpg\n",
      "Extracting... newframe13521.jpg\n",
      "Extracting... newframe13522.jpg\n",
      "Extracting... newframe13523.jpg\n",
      "Extracting... newframe13524.jpg\n",
      "Extracting... newframe13525.jpg\n",
      "Extracting... newframe13526.jpg\n",
      "Extracting... newframe13527.jpg\n",
      "Extracting... newframe13528.jpg\n",
      "Extracting... newframe13529.jpg\n",
      "Extracting... newframe13530.jpg\n",
      "Extracting... newframe13531.jpg\n",
      "Extracting... newframe13532.jpg\n",
      "Extracting... newframe13533.jpg\n",
      "Extracting... newframe13534.jpg\n",
      "Extracting... newframe13535.jpg\n",
      "Extracting... newframe13536.jpg\n",
      "Extracting... newframe13537.jpg\n",
      "Extracting... newframe13538.jpg\n",
      "Extracting... newframe13539.jpg\n",
      "Extracting... newframe13540.jpg\n",
      "Extracting... newframe13541.jpg\n",
      "Extracting... newframe13542.jpg\n",
      "Extracting... newframe13543.jpg\n",
      "Extracting... newframe13544.jpg\n",
      "Extracting... newframe13545.jpg\n",
      "Extracting... newframe13546.jpg\n",
      "Extracting... newframe13547.jpg\n",
      "Extracting... newframe13548.jpg\n",
      "Extracting... newframe13549.jpg\n",
      "Extracting... newframe13550.jpg\n",
      "Extracting... newframe13551.jpg\n",
      "Extracting... newframe13552.jpg\n",
      "Extracting... newframe13553.jpg\n",
      "Extracting... newframe13554.jpg\n",
      "Extracting... newframe13555.jpg\n",
      "Extracting... newframe13556.jpg\n",
      "Extracting... newframe13557.jpg\n",
      "Extracting... newframe13558.jpg\n",
      "Extracting... newframe13559.jpg\n",
      "Extracting... newframe13560.jpg\n",
      "Extracting... newframe13561.jpg\n",
      "Extracting... newframe13562.jpg\n",
      "Extracting... newframe13563.jpg\n",
      "Extracting... newframe13564.jpg\n",
      "Extracting... newframe13565.jpg\n",
      "Extracting... newframe13566.jpg\n",
      "Extracting... newframe13567.jpg\n",
      "Extracting... newframe13568.jpg\n",
      "Extracting... newframe13569.jpg\n",
      "Extracting... newframe13570.jpg\n",
      "Extracting... newframe13571.jpg\n",
      "Extracting... newframe13572.jpg\n",
      "Extracting... newframe13573.jpg\n",
      "Extracting... newframe13574.jpg\n",
      "Extracting... newframe13575.jpg\n",
      "Extracting... newframe13576.jpg\n",
      "Extracting... newframe13577.jpg\n",
      "Extracting... newframe13578.jpg\n",
      "Extracting... newframe13579.jpg\n",
      "Extracting... newframe13580.jpg\n",
      "Extracting... newframe13581.jpg\n",
      "Extracting... newframe13582.jpg\n",
      "Extracting... newframe13583.jpg\n",
      "Extracting... newframe13584.jpg\n",
      "Extracting... newframe13585.jpg\n",
      "Extracting... newframe13586.jpg\n",
      "Extracting... newframe13587.jpg\n",
      "Extracting... newframe13588.jpg\n",
      "Extracting... newframe13589.jpg\n",
      "Extracting... newframe13590.jpg\n",
      "Extracting... newframe13591.jpg\n",
      "Extracting... newframe13592.jpg\n",
      "Extracting... newframe13593.jpg\n",
      "Extracting... newframe13594.jpg\n",
      "Extracting... newframe13595.jpg\n",
      "Extracting... newframe13596.jpg\n",
      "Extracting... newframe13597.jpg\n",
      "Extracting... newframe13598.jpg\n",
      "Extracting... newframe13599.jpg\n",
      "Extracting... newframe13600.jpg\n",
      "Extracting... newframe13601.jpg\n",
      "Extracting... newframe13602.jpg\n",
      "Extracting... newframe13603.jpg\n",
      "Extracting... newframe13604.jpg\n",
      "Extracting... newframe13605.jpg\n",
      "Extracting... newframe13606.jpg\n",
      "Extracting... newframe13607.jpg\n",
      "Extracting... newframe13608.jpg\n",
      "Extracting... newframe13609.jpg\n",
      "Extracting... newframe13610.jpg\n",
      "Extracting... newframe13611.jpg\n",
      "Extracting... newframe13612.jpg\n",
      "Extracting... newframe13613.jpg\n",
      "Extracting... newframe13614.jpg\n",
      "Extracting... newframe13615.jpg\n",
      "Extracting... newframe13616.jpg\n",
      "Extracting... newframe13617.jpg\n",
      "Extracting... newframe13618.jpg\n",
      "Extracting... newframe13619.jpg\n",
      "Extracting... newframe13620.jpg\n",
      "Extracting... newframe13621.jpg\n",
      "Extracting... newframe13622.jpg\n",
      "Extracting... newframe13623.jpg\n",
      "Extracting... newframe13624.jpg\n",
      "Extracting... newframe13625.jpg\n",
      "Extracting... newframe13626.jpg\n",
      "Extracting... newframe13627.jpg\n",
      "Extracting... newframe13628.jpg\n",
      "Extracting... newframe13629.jpg\n",
      "Extracting... newframe13630.jpg\n",
      "Extracting... newframe13631.jpg\n",
      "Extracting... newframe13632.jpg\n",
      "Extracting... newframe13633.jpg\n",
      "Extracting... newframe13634.jpg\n",
      "Extracting... newframe13635.jpg\n",
      "Extracting... newframe13636.jpg\n",
      "Extracting... newframe13637.jpg\n",
      "Extracting... newframe13638.jpg\n",
      "Extracting... newframe13639.jpg\n",
      "Extracting... newframe13640.jpg\n",
      "Extracting... newframe13641.jpg\n",
      "Extracting... newframe13642.jpg\n",
      "Extracting... newframe13643.jpg\n",
      "Extracting... newframe13644.jpg\n",
      "Extracting... newframe13645.jpg\n",
      "Extracting... newframe13646.jpg\n",
      "Extracting... newframe13647.jpg\n",
      "Extracting... newframe13648.jpg\n",
      "Extracting... newframe13649.jpg\n",
      "Extracting... newframe13650.jpg\n",
      "Extracting... newframe13651.jpg\n",
      "Extracting... newframe13652.jpg\n",
      "Extracting... newframe13653.jpg\n",
      "Extracting... newframe13654.jpg\n",
      "Extracting... newframe13655.jpg\n",
      "Extracting... newframe13656.jpg\n",
      "Extracting... newframe13657.jpg\n",
      "Extracting... newframe13658.jpg\n",
      "Extracting... newframe13659.jpg\n",
      "Extracting... newframe13660.jpg\n",
      "Extracting... newframe13661.jpg\n",
      "Extracting... newframe13662.jpg\n",
      "Extracting... newframe13663.jpg\n",
      "Extracting... newframe13664.jpg\n",
      "Extracting... newframe13665.jpg\n",
      "Extracting... newframe13666.jpg\n",
      "Extracting... newframe13667.jpg\n",
      "Extracting... newframe13668.jpg\n",
      "Extracting... newframe13669.jpg\n",
      "Extracting... newframe13670.jpg\n",
      "Extracting... newframe13671.jpg\n",
      "Extracting... newframe13672.jpg\n",
      "Extracting... newframe13673.jpg\n",
      "Extracting... newframe13674.jpg\n",
      "Extracting... newframe13675.jpg\n",
      "Extracting... newframe13676.jpg\n",
      "Extracting... newframe13677.jpg\n",
      "Extracting... newframe13678.jpg\n",
      "Extracting... newframe13679.jpg\n",
      "Extracting... newframe13680.jpg\n",
      "Extracting... newframe13681.jpg\n",
      "Extracting... newframe13682.jpg\n",
      "Extracting... newframe13683.jpg\n",
      "Extracting... newframe13684.jpg\n",
      "Extracting... newframe13685.jpg\n",
      "Extracting... newframe13686.jpg\n",
      "Extracting... newframe13687.jpg\n",
      "Extracting... newframe13688.jpg\n",
      "Extracting... newframe13689.jpg\n",
      "Extracting... newframe13690.jpg\n",
      "Extracting... newframe13691.jpg\n",
      "Extracting... newframe13692.jpg\n",
      "Extracting... newframe13693.jpg\n",
      "Extracting... newframe13694.jpg\n",
      "Extracting... newframe13695.jpg\n",
      "Extracting... newframe13696.jpg\n",
      "Extracting... newframe13697.jpg\n",
      "Extracting... newframe13698.jpg\n",
      "Extracting... newframe13699.jpg\n",
      "Extracting... newframe13700.jpg\n",
      "Extracting... newframe13701.jpg\n",
      "Extracting... newframe13702.jpg\n",
      "Extracting... newframe13703.jpg\n",
      "Extracting... newframe13704.jpg\n",
      "Extracting... newframe13705.jpg\n",
      "Extracting... newframe13706.jpg\n",
      "Extracting... newframe13707.jpg\n",
      "Extracting... newframe13708.jpg\n",
      "Extracting... newframe13709.jpg\n",
      "Extracting... newframe13710.jpg\n",
      "Extracting... newframe13711.jpg\n",
      "Extracting... newframe13712.jpg\n",
      "Extracting... newframe13713.jpg\n",
      "Extracting... newframe13714.jpg\n",
      "Extracting... newframe13715.jpg\n",
      "Extracting... newframe13716.jpg\n",
      "Extracting... newframe13717.jpg\n",
      "Extracting... newframe13718.jpg\n",
      "Extracting... newframe13719.jpg\n",
      "Extracting... newframe13720.jpg\n",
      "Extracting... newframe13721.jpg\n",
      "Extracting... newframe13722.jpg\n",
      "Extracting... newframe13723.jpg\n",
      "Extracting... newframe13724.jpg\n",
      "Extracting... newframe13725.jpg\n",
      "Extracting... newframe13726.jpg\n",
      "Extracting... newframe13727.jpg\n",
      "Extracting... newframe13728.jpg\n",
      "Extracting... newframe13729.jpg\n",
      "Extracting... newframe13730.jpg\n",
      "Extracting... newframe13731.jpg\n",
      "Extracting... newframe13732.jpg\n",
      "Extracting... newframe13733.jpg\n",
      "Extracting... newframe13734.jpg\n",
      "Extracting... newframe13735.jpg\n",
      "Extracting... newframe13736.jpg\n",
      "Extracting... newframe13737.jpg\n",
      "Extracting... newframe13738.jpg\n",
      "Extracting... newframe13739.jpg\n",
      "Extracting... newframe13740.jpg\n",
      "Extracting... newframe13741.jpg\n",
      "Extracting... newframe13742.jpg\n",
      "Extracting... newframe13743.jpg\n",
      "Extracting... newframe13744.jpg\n",
      "Extracting... newframe13745.jpg\n",
      "Extracting... newframe13746.jpg\n",
      "Extracting... newframe13747.jpg\n",
      "Extracting... newframe13748.jpg\n",
      "Extracting... newframe13749.jpg\n",
      "Extracting... newframe13750.jpg\n",
      "Extracting... newframe13751.jpg\n",
      "Extracting... newframe13752.jpg\n",
      "Extracting... newframe13753.jpg\n",
      "Extracting... newframe13754.jpg\n",
      "Extracting... newframe13755.jpg\n",
      "Extracting... newframe13756.jpg\n",
      "Extracting... newframe13757.jpg\n",
      "Extracting... newframe13758.jpg\n",
      "Extracting... newframe13759.jpg\n",
      "Extracting... newframe13760.jpg\n",
      "Extracting... newframe13761.jpg\n",
      "Extracting... newframe13762.jpg\n",
      "Extracting... newframe13763.jpg\n",
      "Extracting... newframe13764.jpg\n",
      "Extracting... newframe13765.jpg\n",
      "Extracting... newframe13766.jpg\n",
      "Extracting... newframe13767.jpg\n",
      "Extracting... newframe13768.jpg\n",
      "Extracting... newframe13769.jpg\n",
      "Extracting... newframe13770.jpg\n",
      "Extracting... newframe13771.jpg\n",
      "Extracting... newframe13772.jpg\n",
      "Extracting... newframe13773.jpg\n"
     ]
    },
    {
     "name": "stdout",
     "output_type": "stream",
     "text": [
      "Extracting... newframe13774.jpg\n",
      "Extracting... newframe13775.jpg\n",
      "Extracting... newframe13776.jpg\n",
      "Extracting... newframe13777.jpg\n",
      "Extracting... newframe13778.jpg\n",
      "Extracting... newframe13779.jpg\n",
      "Extracting... newframe13780.jpg\n",
      "Extracting... newframe13781.jpg\n",
      "Extracting... newframe13782.jpg\n",
      "Extracting... newframe13783.jpg\n",
      "Extracting... newframe13784.jpg\n",
      "Extracting... newframe13785.jpg\n",
      "Extracting... newframe13786.jpg\n",
      "Extracting... newframe13787.jpg\n",
      "Extracting... newframe13788.jpg\n",
      "Extracting... newframe13789.jpg\n",
      "Extracting... newframe13790.jpg\n",
      "Extracting... newframe13791.jpg\n",
      "Extracting... newframe13792.jpg\n",
      "Extracting... newframe13793.jpg\n",
      "Extracting... newframe13794.jpg\n",
      "Extracting... newframe13795.jpg\n",
      "Extracting... newframe13796.jpg\n",
      "Extracting... newframe13797.jpg\n",
      "Extracting... newframe13798.jpg\n",
      "Extracting... newframe13799.jpg\n",
      "Extracting... newframe13800.jpg\n",
      "Extracting... newframe13801.jpg\n",
      "Extracting... newframe13802.jpg\n",
      "Extracting... newframe13803.jpg\n",
      "Extracting... newframe13804.jpg\n",
      "Extracting... newframe13805.jpg\n",
      "Extracting... newframe13806.jpg\n",
      "Extracting... newframe13807.jpg\n",
      "Extracting... newframe13808.jpg\n",
      "Extracting... newframe13809.jpg\n",
      "Extracting... newframe13810.jpg\n",
      "Extracting... newframe13811.jpg\n",
      "Extracting... newframe13812.jpg\n",
      "Extracting... newframe13813.jpg\n",
      "Extracting... newframe13814.jpg\n",
      "Extracting... newframe13815.jpg\n",
      "Extracting... newframe13816.jpg\n",
      "Extracting... newframe13817.jpg\n",
      "Extracting... newframe13818.jpg\n",
      "Extracting... newframe13819.jpg\n",
      "Extracting... newframe13820.jpg\n",
      "Extracting... newframe13821.jpg\n",
      "Extracting... newframe13822.jpg\n",
      "Extracting... newframe13823.jpg\n",
      "Extracting... newframe13824.jpg\n",
      "Extracting... newframe13825.jpg\n",
      "Extracting... newframe13826.jpg\n",
      "Extracting... newframe13827.jpg\n",
      "Extracting... newframe13828.jpg\n",
      "Extracting... newframe13829.jpg\n",
      "Extracting... newframe13830.jpg\n",
      "Extracting... newframe13831.jpg\n",
      "Extracting... newframe13832.jpg\n",
      "Extracting... newframe13833.jpg\n",
      "Extracting... newframe13834.jpg\n",
      "Extracting... newframe13835.jpg\n",
      "Extracting... newframe13836.jpg\n",
      "Extracting... newframe13837.jpg\n",
      "Extracting... newframe13838.jpg\n",
      "Extracting... newframe13839.jpg\n",
      "Extracting... newframe13840.jpg\n",
      "Extracting... newframe13841.jpg\n",
      "Extracting... newframe13842.jpg\n",
      "Extracting... newframe13843.jpg\n",
      "Extracting... newframe13844.jpg\n",
      "Extracting... newframe13845.jpg\n",
      "Extracting... newframe13846.jpg\n",
      "Extracting... newframe13847.jpg\n",
      "Extracting... newframe13848.jpg\n",
      "Extracting... newframe13849.jpg\n",
      "Extracting... newframe13850.jpg\n",
      "Extracting... newframe13851.jpg\n",
      "Extracting... newframe13852.jpg\n",
      "Extracting... newframe13853.jpg\n",
      "Extracting... newframe13854.jpg\n",
      "Extracting... newframe13855.jpg\n",
      "Extracting... newframe13856.jpg\n",
      "Extracting... newframe13857.jpg\n",
      "Extracting... newframe13858.jpg\n",
      "Extracting... newframe13859.jpg\n",
      "Extracting... newframe13860.jpg\n",
      "Extracting... newframe13861.jpg\n",
      "Extracting... newframe13862.jpg\n",
      "Extracting... newframe13863.jpg\n",
      "Extracting... newframe13864.jpg\n",
      "Extracting... newframe13865.jpg\n",
      "Extracting... newframe13866.jpg\n",
      "Extracting... newframe13867.jpg\n",
      "Extracting... newframe13868.jpg\n",
      "Extracting... newframe13869.jpg\n",
      "Extracting... newframe13870.jpg\n",
      "Extracting... newframe13871.jpg\n",
      "Extracting... newframe13872.jpg\n",
      "Extracting... newframe13873.jpg\n",
      "Extracting... newframe13874.jpg\n",
      "Extracting... newframe13875.jpg\n",
      "Extracting... newframe13876.jpg\n",
      "Extracting... newframe13877.jpg\n",
      "Extracting... newframe13878.jpg\n",
      "Extracting... newframe13879.jpg\n",
      "Extracting... newframe13880.jpg\n",
      "Extracting... newframe13881.jpg\n",
      "Extracting... newframe13882.jpg\n",
      "Extracting... newframe13883.jpg\n",
      "Extracting... newframe13884.jpg\n",
      "Extracting... newframe13885.jpg\n",
      "Extracting... newframe13886.jpg\n",
      "Extracting... newframe13887.jpg\n",
      "Extracting... newframe13888.jpg\n",
      "Extracting... newframe13889.jpg\n"
     ]
    }
   ],
   "source": [
    "while True:\n",
    "    # LEEMOS LOS FRAMES\n",
    "    ret, frame = cam.read()\n",
    "    \n",
    "    if ret:\n",
    "        # SI HAY FRAMES PARA EXTRAER\n",
    "        name = 'newframe' + str(currentFrame) + '.jpg'\n",
    "        print('Extracting... '+name)\n",
    "        \n",
    "        # EXTRAELOS\n",
    "        cv2.imwrite(name,frame)\n",
    "        \n",
    "        # Y AUMENTAMOS CONTADOR DE FRAMES\n",
    "        currentFrame += 1\n",
    "    else:\n",
    "        # SI NO, FINALIZA\n",
    "        break\n",
    "        \n",
    "\n",
    "cam.release()\n",
    "cv2.destroyAllWindows()\n",
    "        "
   ]
  },
  {
   "cell_type": "code",
   "execution_count": 29,
   "metadata": {},
   "outputs": [
    {
     "name": "stdout",
     "output_type": "stream",
     "text": [
      "Done!\n"
     ]
    }
   ],
   "source": [
    "count = 0\n",
    "videoFile = \"/Users/pabloneira/Desktop/TFG/TFODCourse/accidents/CCTV CAR CRASHES LIVE | CCTV LIVE.mp4\"\n",
    "cap = cv2.VideoCapture(videoFile)   # capturing the video from the given path\n",
    "frameRate = cap.get(5) #frame rate\n",
    "x=1\n",
    "while(cap.isOpened()):\n",
    "    frameId = cap.get(1) #current frame number\n",
    "    ret, frame = cap.read()\n",
    "    if (ret != True):\n",
    "        break\n",
    "    if (frameId % math.floor(frameRate) == 0):\n",
    "        filename =\"/Users/pabloneira/Desktop/TFG/TFODCourse/accidents/frame%d.jpg\" % count;count+=1\n",
    "        cv2.imwrite(filename, frame)\n",
    "cap.release()\n",
    "print (\"Done!\")"
   ]
  },
  {
   "cell_type": "code",
   "execution_count": 51,
   "metadata": {},
   "outputs": [
    {
     "ename": "AttributeError",
     "evalue": "module 'matplotlib' has no attribute 'imread'",
     "output_type": "error",
     "traceback": [
      "\u001b[0;31m---------------------------------------------------------------------------\u001b[0m",
      "\u001b[0;31mAttributeError\u001b[0m                            Traceback (most recent call last)",
      "\u001b[0;32m<ipython-input-51-51a15625e34c>\u001b[0m in \u001b[0;36m<module>\u001b[0;34m\u001b[0m\n\u001b[1;32m      1\u001b[0m \u001b[0;32mimport\u001b[0m \u001b[0mmatplotlib\u001b[0m \u001b[0;32mas\u001b[0m \u001b[0mplt\u001b[0m\u001b[0;34m\u001b[0m\u001b[0;34m\u001b[0m\u001b[0m\n\u001b[0;32m----> 2\u001b[0;31m \u001b[0mimg\u001b[0m \u001b[0;34m=\u001b[0m \u001b[0mplt\u001b[0m\u001b[0;34m.\u001b[0m\u001b[0mimread\u001b[0m\u001b[0;34m(\u001b[0m\u001b[0;34m\"/Users/pabloneira/Desktop/TFG/TFODCourse/accidents/frame0.jpg\"\u001b[0m\u001b[0;34m)\u001b[0m   \u001b[0;31m# reading image using its name\u001b[0m\u001b[0;34m\u001b[0m\u001b[0;34m\u001b[0m\u001b[0m\n\u001b[0m\u001b[1;32m      3\u001b[0m \u001b[0mplt\u001b[0m\u001b[0;34m.\u001b[0m\u001b[0mimshow\u001b[0m\u001b[0;34m(\u001b[0m\u001b[0mimg\u001b[0m\u001b[0;34m)\u001b[0m\u001b[0;34m\u001b[0m\u001b[0;34m\u001b[0m\u001b[0m\n",
      "\u001b[0;31mAttributeError\u001b[0m: module 'matplotlib' has no attribute 'imread'"
     ]
    }
   ],
   "source": [
    "import matplotlib as plt\n",
    "img = plt.imread(\"/Users/pabloneira/Desktop/TFG/TFODCourse/accidents/frame0.jpg\")   # reading image using its name\n",
    "plt.imshow(img)"
   ]
  },
  {
   "cell_type": "markdown",
   "metadata": {},
   "source": [
    "# 5. Image Labelling"
   ]
  },
  {
   "cell_type": "code",
   "execution_count": 20,
   "metadata": {},
   "outputs": [
    {
     "name": "stdout",
     "output_type": "stream",
     "text": [
      "xcode-select: error: command line tools are already installed, use \"Software Update\" to install updates\r\n"
     ]
    }
   ],
   "source": [
    "!xcode-select --install"
   ]
  },
  {
   "cell_type": "code",
   "execution_count": 5,
   "metadata": {},
   "outputs": [],
   "source": [
    "LABELIMG_PATH = os.path.join('Tensorflow', 'labelimg')"
   ]
  },
  {
   "cell_type": "code",
   "execution_count": 6,
   "metadata": {},
   "outputs": [],
   "source": [
    "if not os.path.exists(LABELIMG_PATH):\n",
    "    !mkdir {LABELIMG_PATH}\n",
    "    !git clone https://github.com/tzutalin/labelImg {LABELIMG_PATH}"
   ]
  },
  {
   "cell_type": "code",
   "execution_count": 14,
   "metadata": {},
   "outputs": [
    {
     "name": "stdout",
     "output_type": "stream",
     "text": [
      "make: *** No rule to make target `qt5py3'.  Stop.\r\n"
     ]
    }
   ],
   "source": [
    "if os.name == 'posix':\n",
    "    !make qt5py3\n",
    "if os.name =='nt':\n",
    "    !cd {LABELIMG_PATH} && pyrcc5 -o libs/resources.py resources.qrc"
   ]
  },
  {
   "cell_type": "code",
   "execution_count": 13,
   "metadata": {},
   "outputs": [
    {
     "name": "stdout",
     "output_type": "stream",
     "text": [
      "Traceback (most recent call last):\r\n",
      "  File \"labelImg.py\", line 29, in <module>\r\n",
      "    from libs.resources import *\r\n",
      "ModuleNotFoundError: No module named 'libs.resources'\r\n"
     ]
    }
   ],
   "source": [
    "!cd {LABELIMG_PATH} && python labelImg.py"
   ]
  },
  {
   "cell_type": "markdown",
   "metadata": {},
   "source": [
    "# 6. Move them into a Training and Testing Partition"
   ]
  },
  {
   "cell_type": "markdown",
   "metadata": {},
   "source": [
    "# OPTIONAL - 7. Compress them for Colab Training"
   ]
  },
  {
   "cell_type": "code",
   "execution_count": 20,
   "metadata": {},
   "outputs": [],
   "source": [
    "TRAIN_PATH = os.path.join('Tensorflow', 'workspace', 'images', 'train')\n",
    "TEST_PATH = os.path.join('Tensorflow', 'workspace', 'images', 'test')\n",
    "ARCHIVE_PATH = os.path.join('Tensorflow', 'workspace', 'images', 'archive.tar.gz')"
   ]
  },
  {
   "cell_type": "code",
   "execution_count": 21,
   "metadata": {},
   "outputs": [],
   "source": [
    "!tar -czf {ARCHIVE_PATH} {TRAIN_PATH} {TEST_PATH}"
   ]
  },
  {
   "cell_type": "code",
   "execution_count": null,
   "metadata": {},
   "outputs": [],
   "source": []
  }
 ],
 "metadata": {
  "kernelspec": {
   "display_name": "Python 3",
   "language": "python",
   "name": "python3"
  },
  "language_info": {
   "codemirror_mode": {
    "name": "ipython",
    "version": 3
   },
   "file_extension": ".py",
   "mimetype": "text/x-python",
   "name": "python",
   "nbconvert_exporter": "python",
   "pygments_lexer": "ipython3",
   "version": "3.7.4"
  }
 },
 "nbformat": 4,
 "nbformat_minor": 2
}
